{
 "cells": [
  {
   "cell_type": "markdown",
   "metadata": {},
   "source": [
    "## Imports"
   ]
  },
  {
   "cell_type": "code",
   "execution_count": null,
   "metadata": {},
   "outputs": [],
   "source": [
    "import cv2\n",
    "import glob\n",
    "import os\n",
    "import librosa\n",
    "from moviepy.editor import *"
   ]
  },
  {
   "cell_type": "markdown",
   "metadata": {},
   "source": [
    "## Read the audio file"
   ]
  },
  {
   "cell_type": "code",
   "execution_count": null,
   "metadata": {},
   "outputs": [],
   "source": [
    "time_series, sample_rate = librosa.load(\"audio.wav\")\n",
    "seconds = librosa.get_duration(y=time_series, sr=sample_rate)"
   ]
  },
  {
   "cell_type": "markdown",
   "metadata": {},
   "source": [
    "## Making video from images"
   ]
  },
  {
   "cell_type": "code",
   "execution_count": null,
   "metadata": {},
   "outputs": [],
   "source": [
    "images_folder = 'images'\n",
    "image_paths_ordered = []\n",
    "\n",
    "for i in range(1, len(glob.glob(f'{images_folder}/*.png'))):\n",
    "    filename = os.path.join(images_folder, f\"img_{i}.png\")\n",
    "    image_paths_ordered.append(filename)\n",
    "\n",
    "frames = len(image_paths_ordered)\n",
    "fps = frames / seconds\n",
    "frame = cv2.imread(image_paths_ordered[0])\n",
    "height, width, layers = frame.shape"
   ]
  },
  {
   "cell_type": "markdown",
   "metadata": {},
   "source": [
    "Note: The first few frames might not be correct because of the initial camera position. Copy the closest good frame and replace the initial frames with it i.e replace frames 1 and 2 with frame 3 "
   ]
  },
  {
   "cell_type": "code",
   "execution_count": null,
   "metadata": {},
   "outputs": [],
   "source": [
    "video = cv2.VideoWriter('video_output.avi', \n",
    "                        cv2.VideoWriter_fourcc(*'DIVX'), \n",
    "                        fps, \n",
    "                        (width, height))\n",
    "\n",
    "for image in image_paths_ordered:\n",
    "    print(image)\n",
    "    print(cv2.imread(image).shape)\n",
    "    video.write(cv2.imread(image))\n",
    "\n",
    "video.release()\n",
    "cv2.destroyAllWindows()"
   ]
  },
  {
   "cell_type": "markdown",
   "metadata": {},
   "source": [
    "Note: If the video isn't being generated make sure all images have same dimensions as varying dimensions cause the video generation process to fail. Finally, while running the main \"frame_creator.py\" file, keep the graphics window open rather than minimizing it since that sometimes causes issues while capturing the frames.  "
   ]
  },
  {
   "cell_type": "markdown",
   "metadata": {},
   "source": [
    "## Adding audio to the generated Video"
   ]
  },
  {
   "cell_type": "code",
   "execution_count": null,
   "metadata": {
    "scrolled": true
   },
   "outputs": [],
   "source": [
    "clip = VideoFileClip(\"video_output.avi\")\n",
    "audioclip = AudioFileClip(\"audio.wav\")\n",
    "videoclip = clip.set_audio(audioclip) \n",
    "videoclip.write_videofile(\"video_output_with_audio.mp4\")"
   ]
  },
  {
   "cell_type": "markdown",
   "metadata": {},
   "source": [
    "Reach out to me at pranavsawant23@gmail.com for any queries"
   ]
  }
 ],
 "metadata": {
  "kernelspec": {
   "display_name": "Python 3",
   "language": "python",
   "name": "python3"
  },
  "language_info": {
   "codemirror_mode": {
    "name": "ipython",
    "version": 3
   },
   "file_extension": ".py",
   "mimetype": "text/x-python",
   "name": "python",
   "nbconvert_exporter": "python",
   "pygments_lexer": "ipython3",
   "version": "3.7.7"
  }
 },
 "nbformat": 4,
 "nbformat_minor": 4
}
